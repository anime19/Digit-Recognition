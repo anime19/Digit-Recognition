{
  "nbformat": 4,
  "nbformat_minor": 0,
  "metadata": {
    "accelerator": "GPU",
    "colab": {
      "name": "MNIST digit recogintion.ipynb",
      "provenance": [],
      "collapsed_sections": [],
      "include_colab_link": true
    },
    "kernelspec": {
      "name": "python3",
      "display_name": "Python 3"
    },
    "language_info": {
      "codemirror_mode": {
        "name": "ipython",
        "version": 3
      },
      "file_extension": ".py",
      "mimetype": "text/x-python",
      "name": "python",
      "nbconvert_exporter": "python",
      "pygments_lexer": "ipython3",
      "version": "3.7.3"
    }
  },
  "cells": [
    {
      "cell_type": "markdown",
      "metadata": {
        "id": "view-in-github",
        "colab_type": "text"
      },
      "source": [
        "<a href=\"https://colab.research.google.com/github/anime19/MNIST-digit-recognition/blob/master/MNIST_digit_recogintion.ipynb\" target=\"_parent\"><img src=\"https://colab.research.google.com/assets/colab-badge.svg\" alt=\"Open In Colab\"/></a>"
      ]
    },
    {
      "cell_type": "code",
      "metadata": {
        "id": "wMW4_e1qBt9n",
        "colab_type": "code",
        "colab": {
          "base_uri": "https://localhost:8080/",
          "height": 125
        },
        "outputId": "875b91e4-ed06-47c2-8ccb-3f56530abcfd"
      },
      "source": [
        "from google.colab import drive\n",
        "drive.mount('/content/drive')"
      ],
      "execution_count": 8,
      "outputs": [
        {
          "output_type": "stream",
          "text": [
            "Go to this URL in a browser: https://accounts.google.com/o/oauth2/auth?client_id=947318989803-6bn6qk8qdgf4n4g3pfee6491hc0brc4i.apps.googleusercontent.com&redirect_uri=urn%3aietf%3awg%3aoauth%3a2.0%3aoob&response_type=code&scope=email%20https%3a%2f%2fwww.googleapis.com%2fauth%2fdocs.test%20https%3a%2f%2fwww.googleapis.com%2fauth%2fdrive%20https%3a%2f%2fwww.googleapis.com%2fauth%2fdrive.photos.readonly%20https%3a%2f%2fwww.googleapis.com%2fauth%2fpeopleapi.readonly\n",
            "\n",
            "Enter your authorization code:\n",
            "··········\n",
            "Mounted at /content/drive\n"
          ],
          "name": "stdout"
        }
      ]
    },
    {
      "cell_type": "code",
      "metadata": {
        "id": "OzzaUeO9CqLw",
        "colab_type": "code",
        "colab": {
          "base_uri": "https://localhost:8080/",
          "height": 34
        },
        "outputId": "eb211988-ad9f-428f-c956-a530af6408fd"
      },
      "source": [
        "%cd /content/drive/My Drive/Colab Notebooks"
      ],
      "execution_count": 9,
      "outputs": [
        {
          "output_type": "stream",
          "text": [
            "/content/drive/My Drive/Colab Notebooks\n"
          ],
          "name": "stdout"
        }
      ]
    },
    {
      "cell_type": "code",
      "metadata": {
        "colab_type": "code",
        "id": "hGlHTjnpsOsw",
        "colab": {
          "base_uri": "https://localhost:8080/",
          "height": 81
        },
        "outputId": "ca602b39-5138-4aad-8cb0-146fe13bb011"
      },
      "source": [
        "from keras.datasets import mnist\n",
        "from keras.layers.core import Dense,Dropout,  Flatten\n",
        "from keras.models import Model, load_model\n",
        "from keras.layers.convolutional import Conv2D,MaxPooling2D \n",
        "from keras.layers.normalization import BatchNormalization\n",
        "\n",
        "from keras.models import Sequential\n",
        "from keras.callbacks import ModelCheckpoint\n",
        "from keras.utils import np_utils\n",
        "from keras.optimizers import Adam,SGD\n",
        "import numpy as np"
      ],
      "execution_count": 1,
      "outputs": [
        {
          "output_type": "stream",
          "text": [
            "Using TensorFlow backend.\n"
          ],
          "name": "stderr"
        },
        {
          "output_type": "display_data",
          "data": {
            "text/html": [
              "<p style=\"color: red;\">\n",
              "The default version of TensorFlow in Colab will switch to TensorFlow 2.x on the 27th of March, 2020.<br>\n",
              "We recommend you <a href=\"https://www.tensorflow.org/guide/migrate\" target=\"_blank\">upgrade</a> now\n",
              "or ensure your notebook will continue to use TensorFlow 1.x via the <code>%tensorflow_version 1.x</code> magic:\n",
              "<a href=\"https://colab.research.google.com/notebooks/tensorflow_version.ipynb\" target=\"_blank\">more info</a>.</p>\n"
            ],
            "text/plain": [
              "<IPython.core.display.HTML object>"
            ]
          },
          "metadata": {
            "tags": []
          }
        }
      ]
    },
    {
      "cell_type": "code",
      "metadata": {
        "colab_type": "code",
        "id": "FHw356IGs8LS",
        "outputId": "5defd385-a569-432e-a6e6-1d7f54af4c33",
        "colab": {
          "base_uri": "https://localhost:8080/",
          "height": 34
        }
      },
      "source": [
        "(Xtrain, ytrain), (Xtest, ytest) = mnist.load_data()          #loading data\n",
        "Xtrain = Xtrain.reshape(60000, 784).astype(\"float32\") / 255    #normalization\n",
        "Xtest = Xtest.reshape(10000, 784).astype(\"float32\") / 255\n",
        "Ytrain = np_utils.to_categorical(ytrain, 10)\n",
        "Ytest = np_utils.to_categorical(ytest, 10)\n",
        "print(Xtrain.shape, Xtest.shape, Ytrain.shape, Ytest.shape)"
      ],
      "execution_count": 2,
      "outputs": [
        {
          "output_type": "stream",
          "text": [
            "(60000, 784) (10000, 784) (60000, 10) (10000, 10)\n"
          ],
          "name": "stdout"
        }
      ]
    },
    {
      "cell_type": "code",
      "metadata": {
        "colab_type": "code",
        "id": "A6H1PdAhvknw",
        "colab": {}
      },
      "source": [
        "# network and training\n",
        "NB_EPOCH = 100\n",
        "BATCH_SIZE = 32\n",
        "VERBOSE = 1\n",
        "NB_CLASSES = 10 # number of outputs = number of digits\n",
        "OPTIMIZER = Adam() \n",
        "N_HIDDEN = 128\n",
        "VALIDATION_SPLIT=0.1"
      ],
      "execution_count": 0,
      "outputs": []
    },
    {
      "cell_type": "markdown",
      "metadata": {
        "colab_type": "text",
        "id": "0zC-saqZUZKx"
      },
      "source": [
        "**Convolution  Network**"
      ]
    },
    {
      "cell_type": "code",
      "metadata": {
        "colab_type": "code",
        "id": "UDMhq9GYGjI3",
        "colab": {
          "base_uri": "https://localhost:8080/",
          "height": 534
        },
        "outputId": "7648b560-75ef-445e-c3ed-5fcca80b45d1"
      },
      "source": [
        "# \n",
        "model=Sequential()\n",
        "\n",
        
        "model.add(Conv2D(filters=64, kernel_size = (3,3), activation=\"relu\", input_shape=(28,28,1)))\n",
        "model.add(Conv2D(filters=64, kernel_size = (3,3), activation=\"relu\"))\n",
        "\n",
        "model.add(MaxPooling2D(pool_size=(2,2)))\n",
        "model.add(BatchNormalization())\n",
        "model.add(Conv2D(filters=128, kernel_size = (3,3), activation=\"relu\"))\n",
        "model.add(Conv2D(filters=128, kernel_size = (3,3), activation=\"relu\"))\n",
        "\n",
        "model.add(MaxPooling2D(pool_size=(2,2)))\n",
        "model.add(BatchNormalization())    \n",
        "model.add(Conv2D(filters=256, kernel_size = (3,3), activation=\"relu\"))\n",
        "    \n",
        "model.add(MaxPooling2D(pool_size=(2,2)))\n",
        "    \n",
        "model.add(Flatten())\n",
        "model.add(BatchNormalization())\n",
        "model.add(Dense(512,activation=\"relu\"))\n",
        "    \n",
        "model.add(Dense(10,activation=\"softmax\"))\n",
        "    \n",
        "model.compile(loss=\"categorical_crossentropy\", optimizer=\"adam\", metrics=[\"accuracy\"])"
      ],
      "execution_count": 4,
      "outputs": [
        {
          "output_type": "stream",
          "text": [
            "WARNING:tensorflow:From /usr/local/lib/python3.6/dist-packages/keras/backend/tensorflow_backend.py:66: The name tf.get_default_graph is deprecated. Please use tf.compat.v1.get_default_graph instead.\n",
            "\n",
            "WARNING:tensorflow:From /usr/local/lib/python3.6/dist-packages/keras/backend/tensorflow_backend.py:541: The name tf.placeholder is deprecated. Please use tf.compat.v1.placeholder instead.\n",
            "\n",
            "WARNING:tensorflow:From /usr/local/lib/python3.6/dist-packages/keras/backend/tensorflow_backend.py:4432: The name tf.random_uniform is deprecated. Please use tf.random.uniform instead.\n",
            "\n",
            "WARNING:tensorflow:From /usr/local/lib/python3.6/dist-packages/keras/backend/tensorflow_backend.py:4267: The name tf.nn.max_pool is deprecated. Please use tf.nn.max_pool2d instead.\n",
            "\n",
            "WARNING:tensorflow:From /usr/local/lib/python3.6/dist-packages/keras/backend/tensorflow_backend.py:190: The name tf.get_default_session is deprecated. Please use tf.compat.v1.get_default_session instead.\n",
            "\n",
            "WARNING:tensorflow:From /usr/local/lib/python3.6/dist-packages/keras/backend/tensorflow_backend.py:197: The name tf.ConfigProto is deprecated. Please use tf.compat.v1.ConfigProto instead.\n",
            "\n",
            "WARNING:tensorflow:From /usr/local/lib/python3.6/dist-packages/keras/backend/tensorflow_backend.py:203: The name tf.Session is deprecated. Please use tf.compat.v1.Session instead.\n",
            "\n",
            "WARNING:tensorflow:From /usr/local/lib/python3.6/dist-packages/keras/backend/tensorflow_backend.py:207: The name tf.global_variables is deprecated. Please use tf.compat.v1.global_variables instead.\n",
            "\n",
            "WARNING:tensorflow:From /usr/local/lib/python3.6/dist-packages/keras/backend/tensorflow_backend.py:216: The name tf.is_variable_initialized is deprecated. Please use tf.compat.v1.is_variable_initialized instead.\n",
            "\n",
            "WARNING:tensorflow:From /usr/local/lib/python3.6/dist-packages/keras/backend/tensorflow_backend.py:223: The name tf.variables_initializer is deprecated. Please use tf.compat.v1.variables_initializer instead.\n",
            "\n",
            "WARNING:tensorflow:From /usr/local/lib/python3.6/dist-packages/keras/backend/tensorflow_backend.py:2041: The name tf.nn.fused_batch_norm is deprecated. Please use tf.compat.v1.nn.fused_batch_norm instead.\n",
            "\n",
            "WARNING:tensorflow:From /usr/local/lib/python3.6/dist-packages/keras/backend/tensorflow_backend.py:148: The name tf.placeholder_with_default is deprecated. Please use tf.compat.v1.placeholder_with_default instead.\n",
            "\n",
            "WARNING:tensorflow:From /usr/local/lib/python3.6/dist-packages/keras/optimizers.py:793: The name tf.train.Optimizer is deprecated. Please use tf.compat.v1.train.Optimizer instead.\n",
            "\n",
            "WARNING:tensorflow:From /usr/local/lib/python3.6/dist-packages/keras/backend/tensorflow_backend.py:3576: The name tf.log is deprecated. Please use tf.math.log instead.\n",
            "\n"
          ],
          "name": "stdout"
        }
      ]
    },
    {
      "cell_type": "code",
      "metadata": {
        "colab_type": "code",
        "id": "tMgICZBhl3dd",
        "colab": {}
      },
      "source": [
        "model.compile(loss='categorical_crossentropy', optimizer=Adam(), metrics=['accuracy'])"
      ],
      "execution_count": 0,
      "outputs": []
    },
    {
      "cell_type": "code",
      "metadata": {
        "colab_type": "code",
        "id": "5hbaQw66Ly-4",
        "colab": {}
      },
      "source": [
        "(Xtrain, ytrain), (Xtest, ytest) = mnist.load_data()          #loading data\n",
        "Xtrain = Xtrain.reshape(Xtrain.shape[0],28, 28,1).astype('float32')/255\n",
        "Xtest = Xtest.reshape(Xtest.shape[0], 28, 28,1).astype('float32')/255\n",
        "ytrain = np_utils.to_categorical(ytrain, 10)\n",
        "ytest = np_utils.to_categorical(ytest, 10)\n",
        "\n"
      ],
      "execution_count": 0,
      "outputs": []
    },
    {
      "cell_type": "markdown",
      "metadata": {
        "colab_type": "text",
        "id": "e4XF_eHCnCrC"
      },
      "source": [
        "**Data Augmentation**"
      ]
    },
    {
      "cell_type": "code",
      "metadata": {
        "colab_type": "code",
        "id": "vM-oDD5pUz-b",
        "colab": {}
      },
      "source": [
        "from keras.preprocessing.image import ImageDataGenerator\n",
        "datagen = ImageDataGenerator(\n",
        "        featurewise_center=False,  # set input mean to 0 over the dataset\n",
        "        samplewise_center=False,  # set each sample mean to 0\n",
        "        featurewise_std_normalization=False,  # divide inputs by std of the dataset\n",
        "        samplewise_std_normalization=False,  # divide each input by its std\n",
        "        zca_whitening=False,  # apply ZCA whitening\n",
        "        rotation_range=10,  # randomly rotate images in the range (degrees, 0 to 180)\n",
        "        zoom_range = 0.0, # Randomly zoom image \n",
        "        width_shift_range=0.1,  # randomly shift images horizontally (fraction of total width)\n",
        "        height_shift_range=0.1,  # randomly shift images vertically (fraction of total height)\n",
        "        horizontal_flip=False,  # randomly flip images\n",
        "        vertical_flip=False)  # randomly flip images\n",
        "        \n"
      ],
      "execution_count": 0,
      "outputs": []
    },
    {
      "cell_type": "code",
      "metadata": {
        "colab_type": "code",
        "id": "m-tgyIT7nXN7",
        "outputId": "78670675-413c-4021-c920-860775e198fe",
        "colab": {
          "base_uri": "https://localhost:8080/",
          "height": 1000
        }
      },
      "source": [
        "train_gen = datagen.flow(Xtrain, ytrain, batch_size=64)\n",
        "test_gen = datagen.flow(Xtest, ytest, batch_size=64)\n",
        "model.fit_generator(train_gen, \n",
        "                              epochs = 50, \n",
        "                              steps_per_epoch = Xtrain.shape[0]/64 ,\n",
        "                              validation_data = test_gen,\n",
        "                              validation_steps = Xtest.shape[0]/64 )\n",
        "Model.save(model,'mnist.h5')\n"
      ],
      "execution_count": 14,
      "outputs": [
        {
          "output_type": "stream",
          "text": [
            "Epoch 1/50\n",
            "938/937 [==============================] - 24s 25ms/step - loss: 0.0037 - acc: 0.9988 - val_loss: 0.0242 - val_acc: 0.9949\n",
            "Epoch 2/50\n",
            "938/937 [==============================] - 24s 25ms/step - loss: 0.0029 - acc: 0.9992 - val_loss: 0.0210 - val_acc: 0.9950\n",
            "Epoch 3/50\n",
            "938/937 [==============================] - 22s 23ms/step - loss: 0.0025 - acc: 0.9992 - val_loss: 0.0259 - val_acc: 0.9950\n",
            "Epoch 4/50\n",
            "938/937 [==============================] - 22s 23ms/step - loss: 0.0034 - acc: 0.9990 - val_loss: 0.0299 - val_acc: 0.9933\n",
            "Epoch 5/50\n",
            "938/937 [==============================] - 22s 23ms/step - loss: 0.0035 - acc: 0.9989 - val_loss: 0.0251 - val_acc: 0.9952\n",
            "Epoch 6/50\n",
            "938/937 [==============================] - 22s 23ms/step - loss: 0.0033 - acc: 0.9991 - val_loss: 0.0310 - val_acc: 0.9942\n",
            "Epoch 7/50\n",
            "938/937 [==============================] - 22s 23ms/step - loss: 0.0028 - acc: 0.9991 - val_loss: 0.0302 - val_acc: 0.9943\n",
            "Epoch 8/50\n",
            "938/937 [==============================] - 22s 23ms/step - loss: 0.0034 - acc: 0.9991 - val_loss: 0.0263 - val_acc: 0.9948\n",
            "Epoch 9/50\n",
            "938/937 [==============================] - 22s 23ms/step - loss: 0.0026 - acc: 0.9991 - val_loss: 0.0241 - val_acc: 0.9953\n",
            "Epoch 10/50\n",
            "938/937 [==============================] - 22s 23ms/step - loss: 0.0023 - acc: 0.9991 - val_loss: 0.0252 - val_acc: 0.9942\n",
            "Epoch 11/50\n",
            "938/937 [==============================] - 22s 23ms/step - loss: 0.0032 - acc: 0.9991 - val_loss: 0.0279 - val_acc: 0.9946\n",
            "Epoch 12/50\n",
            "938/937 [==============================] - 22s 23ms/step - loss: 0.0035 - acc: 0.9991 - val_loss: 0.0221 - val_acc: 0.9958\n",
            "Epoch 13/50\n",
            "938/937 [==============================] - 22s 24ms/step - loss: 0.0030 - acc: 0.9991 - val_loss: 0.0381 - val_acc: 0.9935\n",
            "Epoch 14/50\n",
            "938/937 [==============================] - 22s 23ms/step - loss: 0.0028 - acc: 0.9990 - val_loss: 0.0295 - val_acc: 0.9945\n",
            "Epoch 15/50\n",
            "938/937 [==============================] - 22s 23ms/step - loss: 0.0030 - acc: 0.9991 - val_loss: 0.0317 - val_acc: 0.9947\n",
            "Epoch 16/50\n",
            "938/937 [==============================] - 22s 24ms/step - loss: 0.0028 - acc: 0.9992 - val_loss: 0.0337 - val_acc: 0.9937\n",
            "Epoch 17/50\n",
            "938/937 [==============================] - 22s 24ms/step - loss: 0.0022 - acc: 0.9993 - val_loss: 0.0222 - val_acc: 0.9946\n",
            "Epoch 18/50\n",
            "938/937 [==============================] - 22s 24ms/step - loss: 0.0034 - acc: 0.9991 - val_loss: 0.0285 - val_acc: 0.9948\n",
            "Epoch 19/50\n",
            "938/937 [==============================] - 22s 23ms/step - loss: 0.0029 - acc: 0.9992 - val_loss: 0.0254 - val_acc: 0.9948\n",
            "Epoch 20/50\n",
            "938/937 [==============================] - 22s 23ms/step - loss: 0.0034 - acc: 0.9990 - val_loss: 0.0223 - val_acc: 0.9947\n",
            "Epoch 21/50\n",
            "938/937 [==============================] - 22s 23ms/step - loss: 0.0035 - acc: 0.9989 - val_loss: 0.0306 - val_acc: 0.9954\n",
            "Epoch 22/50\n",
            "938/937 [==============================] - 22s 23ms/step - loss: 0.0034 - acc: 0.9990 - val_loss: 0.0230 - val_acc: 0.9957\n",
            "Epoch 23/50\n",
            "938/937 [==============================] - 21s 23ms/step - loss: 0.0026 - acc: 0.9991 - val_loss: 0.0267 - val_acc: 0.9954\n",
            "Epoch 24/50\n",
            "938/937 [==============================] - 22s 23ms/step - loss: 0.0032 - acc: 0.9991 - val_loss: 0.0266 - val_acc: 0.9955\n",
            "Epoch 25/50\n",
            "938/937 [==============================] - 21s 23ms/step - loss: 0.0029 - acc: 0.9991 - val_loss: 0.0282 - val_acc: 0.9953\n",
            "Epoch 26/50\n",
            "938/937 [==============================] - 21s 23ms/step - loss: 0.0020 - acc: 0.9993 - val_loss: 0.0283 - val_acc: 0.9957\n",
            "Epoch 27/50\n",
            "938/937 [==============================] - 22s 23ms/step - loss: 0.0042 - acc: 0.9988 - val_loss: 0.0350 - val_acc: 0.9949\n",
            "Epoch 28/50\n",
            "938/937 [==============================] - 21s 23ms/step - loss: 0.0037 - acc: 0.9991 - val_loss: 0.0421 - val_acc: 0.9937\n",
            "Epoch 29/50\n",
            "938/937 [==============================] - 21s 23ms/step - loss: 0.0024 - acc: 0.9993 - val_loss: 0.0276 - val_acc: 0.9953\n",
            "Epoch 30/50\n",
            "938/937 [==============================] - 22s 23ms/step - loss: 0.0023 - acc: 0.9993 - val_loss: 0.0311 - val_acc: 0.9951\n",
            "Epoch 31/50\n",
            "938/937 [==============================] - 21s 23ms/step - loss: 0.0046 - acc: 0.9988 - val_loss: 0.0325 - val_acc: 0.9956\n",
            "Epoch 32/50\n",
            "938/937 [==============================] - 21s 23ms/step - loss: 0.0025 - acc: 0.9992 - val_loss: 0.0318 - val_acc: 0.9946\n",
            "Epoch 33/50\n",
            "938/937 [==============================] - 21s 23ms/step - loss: 0.0028 - acc: 0.9992 - val_loss: 0.0376 - val_acc: 0.9935\n",
            "Epoch 34/50\n",
            "938/937 [==============================] - 21s 23ms/step - loss: 0.0031 - acc: 0.9992 - val_loss: 0.0319 - val_acc: 0.9949\n",
            "Epoch 35/50\n",
            "938/937 [==============================] - 21s 23ms/step - loss: 0.0024 - acc: 0.9992 - val_loss: 0.0390 - val_acc: 0.9934\n",
            "Epoch 36/50\n",
            "938/937 [==============================] - 21s 23ms/step - loss: 0.0032 - acc: 0.9990 - val_loss: 0.0327 - val_acc: 0.9941\n",
            "Epoch 37/50\n",
            "938/937 [==============================] - 21s 22ms/step - loss: 0.0026 - acc: 0.9990 - val_loss: 0.0324 - val_acc: 0.9937\n",
            "Epoch 38/50\n",
            "938/937 [==============================] - 21s 23ms/step - loss: 0.0024 - acc: 0.9991 - val_loss: 0.0354 - val_acc: 0.9944\n",
            "Epoch 39/50\n",
            "938/937 [==============================] - 21s 23ms/step - loss: 0.0030 - acc: 0.9993 - val_loss: 0.0275 - val_acc: 0.9944\n",
            "Epoch 40/50\n",
            "938/937 [==============================] - 21s 23ms/step - loss: 0.0033 - acc: 0.9991 - val_loss: 0.0422 - val_acc: 0.9932\n",
            "Epoch 41/50\n",
            "938/937 [==============================] - 21s 23ms/step - loss: 0.0034 - acc: 0.9991 - val_loss: 0.0390 - val_acc: 0.9937\n",
            "Epoch 42/50\n",
            "938/937 [==============================] - 22s 23ms/step - loss: 0.0024 - acc: 0.9993 - val_loss: 0.0318 - val_acc: 0.9956\n",
            "Epoch 43/50\n",
            "938/937 [==============================] - 21s 23ms/step - loss: 0.0024 - acc: 0.9992 - val_loss: 0.0349 - val_acc: 0.9942\n",
            "Epoch 44/50\n",
            "938/937 [==============================] - 21s 23ms/step - loss: 0.0020 - acc: 0.9993 - val_loss: 0.0284 - val_acc: 0.9948\n",
            "Epoch 45/50\n",
            "938/937 [==============================] - 22s 23ms/step - loss: 0.0036 - acc: 0.9991 - val_loss: 0.0327 - val_acc: 0.9948\n",
            "Epoch 46/50\n",
            "938/937 [==============================] - 21s 23ms/step - loss: 0.0035 - acc: 0.9991 - val_loss: 0.0372 - val_acc: 0.9931\n",
            "Epoch 47/50\n",
            "938/937 [==============================] - 22s 23ms/step - loss: 0.0037 - acc: 0.9991 - val_loss: 0.0294 - val_acc: 0.9946\n",
            "Epoch 48/50\n",
            "938/937 [==============================] - 21s 23ms/step - loss: 0.0018 - acc: 0.9995 - val_loss: 0.0287 - val_acc: 0.9945\n",
            "Epoch 49/50\n",
            "938/937 [==============================] - 22s 23ms/step - loss: 0.0033 - acc: 0.9992 - val_loss: 0.0343 - val_acc: 0.9942\n",
            "Epoch 50/50\n",
            "938/937 [==============================] - 22s 23ms/step - loss: 0.0039 - acc: 0.9988 - val_loss: 0.0355 - val_acc: 0.9945\n"
          ],
          "name": "stdout"
        }
      ]
    },
    {
      "cell_type": "code",
      "metadata": {
        "colab_type": "code",
        "id": "Dz7Exf2gqCKJ",
        "outputId": "1623b3ea-df2d-452e-f3c0-cde0fce505a5",
        "colab": {
          "base_uri": "https://localhost:8080/",
          "height": 70
        }
      },
      "source": [
        "score = model.evaluate(Xtest, Ytest, verbose=VERBOSE)\n",
        "print(\"Test score:\", score[0])\n",
        "print('Test accuracy:', score[1])"
      ],
      "execution_count": 15,
      "outputs": [
        {
          "output_type": "stream",
          "text": [
            "10000/10000 [==============================] - 1s 82us/step\n",
            "Test score: 0.02905251388238405\n",
            "Test accuracy: 0.9954\n"
          ],
          "name": "stdout"
        }
      ]
    }
  ]
}
